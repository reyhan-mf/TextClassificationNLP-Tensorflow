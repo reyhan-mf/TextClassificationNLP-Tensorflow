{
 "cells": [
  {
   "cell_type": "code",
   "execution_count": 1,
   "metadata": {},
   "outputs": [],
   "source": [
    "import numpy as np \n",
    "import pandas as pd\n",
    "import re\n"
   ]
  },
  {
   "cell_type": "code",
   "execution_count": 7,
   "metadata": {},
   "outputs": [],
   "source": [
    "df_nlp = pd.read_csv(\"df_file.csv\")"
   ]
  },
  {
   "cell_type": "code",
   "execution_count": 8,
   "metadata": {},
   "outputs": [
    {
     "name": "stdout",
     "output_type": "stream",
     "text": [
      "<class 'pandas.core.frame.DataFrame'>\n",
      "RangeIndex: 2225 entries, 0 to 2224\n",
      "Data columns (total 2 columns):\n",
      " #   Column  Non-Null Count  Dtype \n",
      "---  ------  --------------  ----- \n",
      " 0   Text    2225 non-null   object\n",
      " 1   Label   2225 non-null   int64 \n",
      "dtypes: int64(1), object(1)\n",
      "memory usage: 34.9+ KB\n"
     ]
    }
   ],
   "source": [
    "df_nlp.info()\n",
    "df_nlp.drop_duplicates(inplace=True)"
   ]
  },
  {
   "cell_type": "code",
   "execution_count": 4,
   "metadata": {},
   "outputs": [],
   "source": [
    "# df_nlp.duplicated().sum()"
   ]
  },
  {
   "cell_type": "code",
   "execution_count": null,
   "metadata": {},
   "outputs": [],
   "source": [
    "df_nlp[\"Text\"] = df_nlp[\"Text\"].str.lower() #Mengubah semua kata menjadi huruf kecil\n",
    "\n",
    "import re\n",
    "\n",
    "def remove_html_tags(text): # Fungsi untuk menghapus tag HTML dari teks.\n",
    "\n",
    "    html_tag_pattern = re.compile(\"<.*?>\")  \n",
    "    cleaned_text = html_tag_pattern.sub(r\"\", text)  \n",
    "    return cleaned_text\n",
    "\n",
    "df_nlp[\"Text\"] = df_nlp[\"Text\"].apply(remove_html_tags)\n"
   ]
  },
  {
   "cell_type": "code",
   "execution_count": null,
   "metadata": {},
   "outputs": [],
   "source": [
    "def remove_url(text):\n",
    "    pattern = re.compile(r\"https?://\\S+|www\\S+\")\n",
    "    return pattern.sub(r\"\", text)\n",
    "df_nlp[\"Text\"] = df_nlp[\"Text\"].apply(remove_url)\n",
    "\n"
   ]
  },
  {
   "cell_type": "code",
   "execution_count": 5,
   "metadata": {},
   "outputs": [
    {
     "data": {
      "text/plain": [
       "'budget to set scene for election\\n \\n gordon brown will seek to put the economy at the centre of labours bid for a third term in power when he delivers his ninth budget at 1230 gmt he is expected to stress the importance of continued economic stability with low unemployment and interest rates the chancellor is expected to freeze petrol duty and raise the stamp duty threshold from â£60000 but the conservatives and lib dems insist voters face higher taxes and more meanstesting under labour\\n \\n treasury officials have said there will not be a preelection giveaway but mr brown is thought to have about â£2bn to spare\\n \\n  increase in the stamp duty threshold from â£60000 \\n   a freeze on petrol duty \\n   an extension of tax credit scheme for poorer families \\n   possible help for pensioners the stamp duty threshold rise is intended to help first time buyers  a likely theme of all three of the main parties general election manifestos ten years ago buyers had a much greater chance of avoiding stamp duty with close to half a million properties in england and wales alone selling for less than â£60000 since then average uk property prices have more than doubled while the starting threshold for stamp duty has not increased tax credits as a result the number of properties incurring stamp duty has rocketed as has the governments tax take the liberal democrats unveiled their own proposals to raise the stamp duty threshold to â£150000 in february\\n \\n the tories are also thought likely to propose increased thresholds with shadow chancellor oliver letwin branding stamp duty a classic labour stealth tax the tories say whatever the chancellor gives away will be clawed back in higher taxes if labour is returned to power shadow treasury chief secretary george osborne said everyone who looks at the british economy at the moment says there has been a sharp deterioration in the public finances that there is a black hole he said if labour is elected there will be a very substantial tax increase in the budget after the election of the order of around â£10bn\\n \\n but mr browns former advisor ed balls now a parliamentary hopeful said an examination of tory plans for the economy showed there would be a â£35bn difference in investment by the end of the next parliament between the two main parties he added i dont accept there is any need for any changes to the plans we have set out to meet our spending commitments\\n \\n for the lib dems david laws said the chancellor will no doubt tell us today how wonderfully the economy is doing he said but a lot of that is built on an increase in personal and consumer debt over the last few years  that makes the economy quite vulnerable potentially if interest rates ever do have to go up in a significant way snp leader alex salmond said his party would introduce a â£2000 grant for first time buyers reduce corporation tax and introduce a citizens pension free from means testing plaid cymrus economics spokesman adam price said he wanted help to get people on the housing ladder and an increase in the minimum wage to â£560 an hour\\n'"
      ]
     },
     "execution_count": 5,
     "metadata": {},
     "output_type": "execute_result"
    }
   ],
   "source": [
    "import string, time\n",
    "punc = string.punctuation\n",
    "def remove_punctuations(text):\n",
    "    return text.translate(str.maketrans(\"\",\"\",punc))\n",
    "df_nlp[\"Text\"] = df_nlp[\"Text\"].apply(remove_punctuations)\n",
    "df_nlp[\"Text\"][0]"
   ]
  },
  {
   "cell_type": "code",
   "execution_count": 6,
   "metadata": {},
   "outputs": [
    {
     "name": "stdout",
     "output_type": "stream",
     "text": [
      "                                                   Text     Label\n",
      "0     budget to set scene for election\\n \\n gordon b...  Politics\n",
      "1     army chiefs in regiments decision\\n \\n militar...  Politics\n",
      "2     howard denies split over id cards\\n \\n michael...  Politics\n",
      "3     observers to monitor uk election\\n \\n minister...  Politics\n",
      "4     kilroy names election seat target\\n \\n exchat ...  Politics\n",
      "...                                                 ...       ...\n",
      "2220  india opens skies to competition\\n \\n india wi...  Business\n",
      "2221  yukos bankruptcy not us matter\\n \\n russian au...  Business\n",
      "2222  survey confirms property slowdown\\n \\n governm...  Business\n",
      "2223  high fuel prices hit bas profits\\n \\n british ...  Business\n",
      "2224  us trade gap hits record in 2004\\n \\n the gap ...  Business\n",
      "\n",
      "[2127 rows x 2 columns]\n"
     ]
    }
   ],
   "source": [
    "label_mapping = {0: 'Politics', 1: 'Sport', 2: 'Technology', 3: 'Entertainment', 4: 'Business'}\n",
    "\n",
    "df_nlp['Label'] = df_nlp['Label'].map(label_mapping)\n",
    "\n",
    "print(df_nlp)\n",
    "\n",
    "# # mengubah label 1, 2 ,3 ,4 ke kategorikal terlebih dahulu"
   ]
  },
  {
   "cell_type": "code",
   "execution_count": null,
   "metadata": {},
   "outputs": [],
   "source": []
  },
  {
   "cell_type": "code",
   "execution_count": 7,
   "metadata": {},
   "outputs": [
    {
     "data": {
      "text/html": [
       "<div>\n",
       "<style scoped>\n",
       "    .dataframe tbody tr th:only-of-type {\n",
       "        vertical-align: middle;\n",
       "    }\n",
       "\n",
       "    .dataframe tbody tr th {\n",
       "        vertical-align: top;\n",
       "    }\n",
       "\n",
       "    .dataframe thead th {\n",
       "        text-align: right;\n",
       "    }\n",
       "</style>\n",
       "<table border=\"1\" class=\"dataframe\">\n",
       "  <thead>\n",
       "    <tr style=\"text-align: right;\">\n",
       "      <th></th>\n",
       "      <th>Text</th>\n",
       "      <th>Label</th>\n",
       "    </tr>\n",
       "  </thead>\n",
       "  <tbody>\n",
       "    <tr>\n",
       "      <th>0</th>\n",
       "      <td>budget to set scene for election\\n \\n gordon b...</td>\n",
       "      <td>Politics</td>\n",
       "    </tr>\n",
       "    <tr>\n",
       "      <th>1</th>\n",
       "      <td>army chiefs in regiments decision\\n \\n militar...</td>\n",
       "      <td>Politics</td>\n",
       "    </tr>\n",
       "    <tr>\n",
       "      <th>2</th>\n",
       "      <td>howard denies split over id cards\\n \\n michael...</td>\n",
       "      <td>Politics</td>\n",
       "    </tr>\n",
       "    <tr>\n",
       "      <th>3</th>\n",
       "      <td>observers to monitor uk election\\n \\n minister...</td>\n",
       "      <td>Politics</td>\n",
       "    </tr>\n",
       "    <tr>\n",
       "      <th>4</th>\n",
       "      <td>kilroy names election seat target\\n \\n exchat ...</td>\n",
       "      <td>Politics</td>\n",
       "    </tr>\n",
       "    <tr>\n",
       "      <th>...</th>\n",
       "      <td>...</td>\n",
       "      <td>...</td>\n",
       "    </tr>\n",
       "    <tr>\n",
       "      <th>2220</th>\n",
       "      <td>india opens skies to competition\\n \\n india wi...</td>\n",
       "      <td>Business</td>\n",
       "    </tr>\n",
       "    <tr>\n",
       "      <th>2221</th>\n",
       "      <td>yukos bankruptcy not us matter\\n \\n russian au...</td>\n",
       "      <td>Business</td>\n",
       "    </tr>\n",
       "    <tr>\n",
       "      <th>2222</th>\n",
       "      <td>survey confirms property slowdown\\n \\n governm...</td>\n",
       "      <td>Business</td>\n",
       "    </tr>\n",
       "    <tr>\n",
       "      <th>2223</th>\n",
       "      <td>high fuel prices hit bas profits\\n \\n british ...</td>\n",
       "      <td>Business</td>\n",
       "    </tr>\n",
       "    <tr>\n",
       "      <th>2224</th>\n",
       "      <td>us trade gap hits record in 2004\\n \\n the gap ...</td>\n",
       "      <td>Business</td>\n",
       "    </tr>\n",
       "  </tbody>\n",
       "</table>\n",
       "<p>2127 rows × 2 columns</p>\n",
       "</div>"
      ],
      "text/plain": [
       "                                                   Text     Label\n",
       "0     budget to set scene for election\\n \\n gordon b...  Politics\n",
       "1     army chiefs in regiments decision\\n \\n militar...  Politics\n",
       "2     howard denies split over id cards\\n \\n michael...  Politics\n",
       "3     observers to monitor uk election\\n \\n minister...  Politics\n",
       "4     kilroy names election seat target\\n \\n exchat ...  Politics\n",
       "...                                                 ...       ...\n",
       "2220  india opens skies to competition\\n \\n india wi...  Business\n",
       "2221  yukos bankruptcy not us matter\\n \\n russian au...  Business\n",
       "2222  survey confirms property slowdown\\n \\n governm...  Business\n",
       "2223  high fuel prices hit bas profits\\n \\n british ...  Business\n",
       "2224  us trade gap hits record in 2004\\n \\n the gap ...  Business\n",
       "\n",
       "[2127 rows x 2 columns]"
      ]
     },
     "execution_count": 7,
     "metadata": {},
     "output_type": "execute_result"
    }
   ],
   "source": [
    "df_nlp"
   ]
  },
  {
   "cell_type": "code",
   "execution_count": 8,
   "metadata": {},
   "outputs": [
    {
     "data": {
      "text/html": [
       "<div>\n",
       "<style scoped>\n",
       "    .dataframe tbody tr th:only-of-type {\n",
       "        vertical-align: middle;\n",
       "    }\n",
       "\n",
       "    .dataframe tbody tr th {\n",
       "        vertical-align: top;\n",
       "    }\n",
       "\n",
       "    .dataframe thead th {\n",
       "        text-align: right;\n",
       "    }\n",
       "</style>\n",
       "<table border=\"1\" class=\"dataframe\">\n",
       "  <thead>\n",
       "    <tr style=\"text-align: right;\">\n",
       "      <th></th>\n",
       "      <th>Text</th>\n",
       "      <th>Business</th>\n",
       "      <th>Entertainment</th>\n",
       "      <th>Politics</th>\n",
       "      <th>Sport</th>\n",
       "      <th>Technology</th>\n",
       "    </tr>\n",
       "  </thead>\n",
       "  <tbody>\n",
       "    <tr>\n",
       "      <th>0</th>\n",
       "      <td>budget to set scene for election\\n \\n gordon b...</td>\n",
       "      <td>0</td>\n",
       "      <td>0</td>\n",
       "      <td>1</td>\n",
       "      <td>0</td>\n",
       "      <td>0</td>\n",
       "    </tr>\n",
       "    <tr>\n",
       "      <th>1</th>\n",
       "      <td>army chiefs in regiments decision\\n \\n militar...</td>\n",
       "      <td>0</td>\n",
       "      <td>0</td>\n",
       "      <td>1</td>\n",
       "      <td>0</td>\n",
       "      <td>0</td>\n",
       "    </tr>\n",
       "    <tr>\n",
       "      <th>2</th>\n",
       "      <td>howard denies split over id cards\\n \\n michael...</td>\n",
       "      <td>0</td>\n",
       "      <td>0</td>\n",
       "      <td>1</td>\n",
       "      <td>0</td>\n",
       "      <td>0</td>\n",
       "    </tr>\n",
       "    <tr>\n",
       "      <th>3</th>\n",
       "      <td>observers to monitor uk election\\n \\n minister...</td>\n",
       "      <td>0</td>\n",
       "      <td>0</td>\n",
       "      <td>1</td>\n",
       "      <td>0</td>\n",
       "      <td>0</td>\n",
       "    </tr>\n",
       "    <tr>\n",
       "      <th>4</th>\n",
       "      <td>kilroy names election seat target\\n \\n exchat ...</td>\n",
       "      <td>0</td>\n",
       "      <td>0</td>\n",
       "      <td>1</td>\n",
       "      <td>0</td>\n",
       "      <td>0</td>\n",
       "    </tr>\n",
       "    <tr>\n",
       "      <th>...</th>\n",
       "      <td>...</td>\n",
       "      <td>...</td>\n",
       "      <td>...</td>\n",
       "      <td>...</td>\n",
       "      <td>...</td>\n",
       "      <td>...</td>\n",
       "    </tr>\n",
       "    <tr>\n",
       "      <th>2220</th>\n",
       "      <td>india opens skies to competition\\n \\n india wi...</td>\n",
       "      <td>1</td>\n",
       "      <td>0</td>\n",
       "      <td>0</td>\n",
       "      <td>0</td>\n",
       "      <td>0</td>\n",
       "    </tr>\n",
       "    <tr>\n",
       "      <th>2221</th>\n",
       "      <td>yukos bankruptcy not us matter\\n \\n russian au...</td>\n",
       "      <td>1</td>\n",
       "      <td>0</td>\n",
       "      <td>0</td>\n",
       "      <td>0</td>\n",
       "      <td>0</td>\n",
       "    </tr>\n",
       "    <tr>\n",
       "      <th>2222</th>\n",
       "      <td>survey confirms property slowdown\\n \\n governm...</td>\n",
       "      <td>1</td>\n",
       "      <td>0</td>\n",
       "      <td>0</td>\n",
       "      <td>0</td>\n",
       "      <td>0</td>\n",
       "    </tr>\n",
       "    <tr>\n",
       "      <th>2223</th>\n",
       "      <td>high fuel prices hit bas profits\\n \\n british ...</td>\n",
       "      <td>1</td>\n",
       "      <td>0</td>\n",
       "      <td>0</td>\n",
       "      <td>0</td>\n",
       "      <td>0</td>\n",
       "    </tr>\n",
       "    <tr>\n",
       "      <th>2224</th>\n",
       "      <td>us trade gap hits record in 2004\\n \\n the gap ...</td>\n",
       "      <td>1</td>\n",
       "      <td>0</td>\n",
       "      <td>0</td>\n",
       "      <td>0</td>\n",
       "      <td>0</td>\n",
       "    </tr>\n",
       "  </tbody>\n",
       "</table>\n",
       "<p>2127 rows × 6 columns</p>\n",
       "</div>"
      ],
      "text/plain": [
       "                                                   Text  Business  \\\n",
       "0     budget to set scene for election\\n \\n gordon b...         0   \n",
       "1     army chiefs in regiments decision\\n \\n militar...         0   \n",
       "2     howard denies split over id cards\\n \\n michael...         0   \n",
       "3     observers to monitor uk election\\n \\n minister...         0   \n",
       "4     kilroy names election seat target\\n \\n exchat ...         0   \n",
       "...                                                 ...       ...   \n",
       "2220  india opens skies to competition\\n \\n india wi...         1   \n",
       "2221  yukos bankruptcy not us matter\\n \\n russian au...         1   \n",
       "2222  survey confirms property slowdown\\n \\n governm...         1   \n",
       "2223  high fuel prices hit bas profits\\n \\n british ...         1   \n",
       "2224  us trade gap hits record in 2004\\n \\n the gap ...         1   \n",
       "\n",
       "      Entertainment  Politics  Sport  Technology  \n",
       "0                 0         1      0           0  \n",
       "1                 0         1      0           0  \n",
       "2                 0         1      0           0  \n",
       "3                 0         1      0           0  \n",
       "4                 0         1      0           0  \n",
       "...             ...       ...    ...         ...  \n",
       "2220              0         0      0           0  \n",
       "2221              0         0      0           0  \n",
       "2222              0         0      0           0  \n",
       "2223              0         0      0           0  \n",
       "2224              0         0      0           0  \n",
       "\n",
       "[2127 rows x 6 columns]"
      ]
     },
     "execution_count": 8,
     "metadata": {},
     "output_type": "execute_result"
    }
   ],
   "source": [
    "df_encoded = pd.get_dummies(df_nlp, columns=['Label'], prefix='', prefix_sep='')\n",
    "df_encoded.replace({True:1, False:0})"
   ]
  },
  {
   "cell_type": "code",
   "execution_count": 9,
   "metadata": {},
   "outputs": [],
   "source": [
    "text = df_encoded['Text'].values\n",
    "label = df_encoded[['Business', 'Entertainment', 'Politics', 'Sport', 'Technology']].values\n"
   ]
  },
  {
   "cell_type": "code",
   "execution_count": 10,
   "metadata": {},
   "outputs": [],
   "source": [
    "from sklearn.model_selection import train_test_split\n",
    "text_latih, text_test, label_latih, label_test = train_test_split(text, label, test_size=0.2)"
   ]
  },
  {
   "cell_type": "code",
   "execution_count": 11,
   "metadata": {},
   "outputs": [],
   "source": [
    "from tensorflow.keras.preprocessing.text import Tokenizer\n",
    "from tensorflow.keras.preprocessing.sequence import pad_sequences\n"
   ]
  },
  {
   "cell_type": "code",
   "execution_count": 3,
   "metadata": {},
   "outputs": [],
   "source": [
    "class myCallback(tf.keras.callbacks.Callback):\n",
    "  def on_epoch_end(self, epoch, logs={}):\n",
    "    if(logs.get('accuracy') and logs.get('val_accuracy')>0.9):\n",
    "      print(\"\\nAkurasi telah mencapai >90%!\")\n",
    "      self.model.stop_training = True\n",
    "callbacks = myCallback()"
   ]
  },
  {
   "cell_type": "code",
   "execution_count": 12,
   "metadata": {},
   "outputs": [],
   "source": [
    "tokenizer = Tokenizer(num_words=10000)\n",
    "tokenizer.fit_on_texts(text_latih) \n",
    "\n",
    " \n",
    "sekuens_latih = tokenizer.texts_to_sequences(text_latih)\n",
    "sekuens_test = tokenizer.texts_to_sequences(text_test)\n",
    " \n",
    "padded_latih = pad_sequences(sekuens_latih) \n",
    "padded_test = pad_sequences(sekuens_test)"
   ]
  },
  {
   "cell_type": "code",
   "execution_count": null,
   "metadata": {},
   "outputs": [],
   "source": []
  },
  {
   "cell_type": "code",
   "execution_count": 1,
   "metadata": {},
   "outputs": [],
   "source": [
    "import tensorflow as tf\n",
    "from tensorflow.keras.models import Sequential\n",
    "from tensorflow.keras import layers\n",
    "\n",
    "model = Sequential()\n",
    "model.add(layers.Embedding(input_dim=10000, output_dim=500))\n",
    "model.add(layers.LSTM(128, return_sequences=True, recurrent_dropout=0.2))\n",
    "model.add(layers.LSTM(64, recurrent_dropout=0.2))\n",
    "model.add(layers.BatchNormalization())\n",
    "model.add(layers.Dense(64, activation='relu'))\n",
    "model.add(layers.Dropout(0.3))\n",
    "model.add(layers.Dense(128, activation='relu'))\n",
    "model.add(layers.Dropout(0.3))\n",
    "model.add(layers.Dense(5, activation='softmax'))\n",
    "\n",
    "optimizer = tf.keras.optimizers.Adam(learning_rate=0.0005)\n",
    "\n",
    "\n",
    "model.compile(loss='categorical_crossentropy', optimizer=optimizer, metrics=['accuracy'])\n"
   ]
  },
  {
   "cell_type": "code",
   "execution_count": 19,
   "metadata": {},
   "outputs": [],
   "source": [
    "# Pastikan TensorFlow menggunakan GPU\n",
    "physical_devices = tf.config.list_physical_devices('GPU')\n",
    "if len(physical_devices) > 0:\n",
    "    tf.config.experimental.set_memory_growth(physical_devices[0], True)\n"
   ]
  },
  {
   "cell_type": "code",
   "execution_count": 2,
   "metadata": {},
   "outputs": [
    {
     "ename": "NameError",
     "evalue": "name 'padded_latih' is not defined",
     "output_type": "error",
     "traceback": [
      "\u001b[1;31m---------------------------------------------------------------------------\u001b[0m",
      "\u001b[1;31mNameError\u001b[0m                                 Traceback (most recent call last)",
      "Cell \u001b[1;32mIn[2], line 2\u001b[0m\n\u001b[0;32m      1\u001b[0m num_epochs \u001b[38;5;241m=\u001b[39m \u001b[38;5;241m32\u001b[39m\n\u001b[1;32m----> 2\u001b[0m history \u001b[38;5;241m=\u001b[39m model\u001b[38;5;241m.\u001b[39mfit(\u001b[43mpadded_latih\u001b[49m, label_latih, epochs\u001b[38;5;241m=\u001b[39mnum_epochs,\n\u001b[0;32m      3\u001b[0m                     validation_data\u001b[38;5;241m=\u001b[39m(padded_test, label_test), verbose\u001b[38;5;241m=\u001b[39m\u001b[38;5;241m2\u001b[39m)\n",
      "\u001b[1;31mNameError\u001b[0m: name 'padded_latih' is not defined"
     ]
    }
   ],
   "source": [
    "num_epochs = 32\n",
    "history = model.fit(padded_latih, label_latih, epochs=num_epochs,\n",
    "                    validation_data=(padded_test, label_test), verbose=2, callbacks=callbacks)"
   ]
  },
  {
   "cell_type": "code",
   "execution_count": null,
   "metadata": {},
   "outputs": [],
   "source": []
  }
 ],
 "metadata": {
  "kernelspec": {
   "display_name": "Python 3",
   "language": "python",
   "name": "python3"
  },
  "language_info": {
   "codemirror_mode": {
    "name": "ipython",
    "version": 3
   },
   "file_extension": ".py",
   "mimetype": "text/x-python",
   "name": "python",
   "nbconvert_exporter": "python",
   "pygments_lexer": "ipython3",
   "version": "3.11.4"
  }
 },
 "nbformat": 4,
 "nbformat_minor": 2
}
